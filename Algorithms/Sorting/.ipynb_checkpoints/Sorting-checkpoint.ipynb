{
 "cells": [
  {
   "cell_type": "markdown",
   "metadata": {},
   "source": [
    "<a id='insertionSort'></a>\n",
    "<h1>Insertion Sort</h1>"
   ]
  },
  {
   "cell_type": "markdown",
   "metadata": {},
   "source": [
    "**Input:**\n",
    "\n",
    "Array `A[1, ..., n]`"
   ]
  },
  {
   "cell_type": "markdown",
   "metadata": {},
   "source": [
    "**Best uses:**\n",
    "\n",
    "Sorting small arrays of size `n`"
   ]
  },
  {
   "cell_type": "markdown",
   "metadata": {},
   "source": [
    "```C++\n",
    "void insertionSort(vector<int> &arr)\n",
    "{\n",
    "\tfor(int i = 1 ; i < arr.size() ; i++)\n",
    "\t{\n",
    "\t\tint val = arr[i];\n",
    "\t\tint j = i - 1;\n",
    "\n",
    "\t\twhile(j >= 0 && arr[j] > val)\n",
    "\t\t{\n",
    "\t\t\tarr[j + 1] = arr[j];\n",
    "\t\t\tj = j - 1;\n",
    "\t\t}\n",
    "\t\tarr[j + 1] = val;\n",
    "\t}\n",
    "}\n",
    "```"
   ]
  },
  {
   "cell_type": "markdown",
   "metadata": {},
   "source": [
    "See [insertion sort](#insertionSort) above"
   ]
  }
 ],
 "metadata": {
  "kernelspec": {
   "display_name": "Python 3",
   "language": "python",
   "name": "python3"
  },
  "language_info": {
   "codemirror_mode": {
    "name": "ipython",
    "version": 3
   },
   "file_extension": ".py",
   "mimetype": "text/x-python",
   "name": "python",
   "nbconvert_exporter": "python",
   "pygments_lexer": "ipython3",
   "version": "3.6.5"
  }
 },
 "nbformat": 4,
 "nbformat_minor": 2
}
