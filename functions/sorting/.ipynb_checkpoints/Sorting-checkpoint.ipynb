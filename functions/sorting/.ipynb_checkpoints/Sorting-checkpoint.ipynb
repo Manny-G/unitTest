{
 "cells": [
  {
   "cell_type": "markdown",
   "metadata": {},
   "source": [
    "<a id='insertionSort'></a>\n",
    "<h1>Insertion Sort</h1>"
   ]
  },
  {
   "cell_type": "markdown",
   "metadata": {},
   "source": [
    "**Input:**\n",
    "\n",
    "Array `A[n]` of values that can be compared using the `<` or `>` operators"
   ]
  },
  {
   "cell_type": "markdown",
   "metadata": {},
   "source": [
    "**Best uses:**\n",
    "\n",
    "Sorting small arrays of size `n`."
   ]
  },
  {
   "cell_type": "markdown",
   "metadata": {},
   "source": [
    "**Run time:**\n",
    "\n",
    "$\\Theta(n^2)$"
   ]
  },
  {
   "cell_type": "markdown",
   "metadata": {},
   "source": [
    "**In code (C++):**\n",
    "\n",
    "The C++ code for insertion sort (in incrementing order) would be as follows:\n",
    "```C++\n",
    "void insertionSort(vector<int> &arr)\n",
    "{\n",
    "\tfor(unsigned int i = 1 ; i < arr.size() ; i++)\n",
    "\t{\n",
    "\t\tint j = i - 1;\n",
    "\n",
    "\t\twhile(j >= 0 && arr[j] > arr[j + 1])\n",
    "\t\t{\n",
    "\t\t\tswap(arr[j], arr[j + 1]);\n",
    "\t\t\tj--;\n",
    "\t\t}\n",
    "\t}\n",
    "}\n",
    "```"
   ]
  },
  {
   "cell_type": "markdown",
   "metadata": {},
   "source": [
    "If you wanted to do insertion sort in decrementing order on the other hand the code would look more like:\n",
    "``` C++\n",
    "void insertionSort(vector<int> &arr)\n",
    "{\n",
    "\tfor(auto i = arr.size() - 2 ; i < arr.size() ; i--)\n",
    "\t{\n",
    "\t\tauto j = i + 1;\n",
    "\n",
    "\t\twhile(j < arr.size() && arr[j] > arr[j - 1])\n",
    "\t\t{\n",
    "\t\t\tswap(arr[j-1], arr[j]);\n",
    "\t\t\tj++;\n",
    "\t\t}\n",
    "\t}\n",
    "}\n",
    "```"
   ]
  },
  {
   "cell_type": "markdown",
   "metadata": {},
   "source": [
    "In both iterations of insertion sort above we used a function `swap()`, which is defined as:\n",
    "``` C++\n",
    "void swap(int &a, int &b)\n",
    "{\n",
    "\tint swapStore = b;\n",
    "\tb = a;\n",
    "\ta = swapStore;\n",
    "}\n",
    "```"
   ]
  },
  {
   "cell_type": "markdown",
   "metadata": {},
   "source": [
    "<a id='binarySearch'></a>\n",
    "<h1>Binary Search</h1>"
   ]
  },
  {
   "cell_type": "markdown",
   "metadata": {},
   "source": [
    "**Input:**\n",
    "\n",
    "Sorted array `A[n]`"
   ]
  },
  {
   "cell_type": "markdown",
   "metadata": {},
   "source": [
    "**Run time:**\n",
    "\n",
    "$T(n) = T(\\frac{n}{2}) + \\Theta(1) = \\Theta(log_2(n))$"
   ]
  },
  {
   "cell_type": "markdown",
   "metadata": {},
   "source": [
    "See [insertion sort](#insertionSort) above"
   ]
  }
 ],
 "metadata": {
  "kernelspec": {
   "display_name": "Python 3",
   "language": "python",
   "name": "python3"
  },
  "language_info": {
   "codemirror_mode": {
    "name": "ipython",
    "version": 3
   },
   "file_extension": ".py",
   "mimetype": "text/x-python",
   "name": "python",
   "nbconvert_exporter": "python",
   "pygments_lexer": "ipython3",
   "version": "3.6.5"
  }
 },
 "nbformat": 4,
 "nbformat_minor": 2
}
